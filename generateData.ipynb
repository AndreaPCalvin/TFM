{
  "cells": [
    {
      "cell_type": "code",
      "execution_count": 1,
      "metadata": {
        "id": "7Q19dDkJcbl1"
      },
      "outputs": [],
      "source": [
        "import pandas as pd\n",
        "import numpy as np\n",
        "from datetime import datetime\n",
        "import matplotlib.pyplot as plt\n",
        "import requests\n",
        "import operator\n",
        "from collections import Counter\n",
        "from collections import defaultdict\n",
        "import math\n",
        "from traitlets.traitlets import default\n",
        "import pickle"
      ]
    },
    {
      "cell_type": "code",
      "execution_count": 8,
      "metadata": {
        "id": "DZhMnE0LeOou"
      },
      "outputs": [],
      "source": [
        "URL = \"https://hub.snapshot.org/graphql\"\n",
        "\n",
        "#DAO space\n",
        "SPACE = \"space.eth\""
      ]
    },
    {
      "cell_type": "code",
      "execution_count": null,
      "metadata": {
        "id": "srZo7Eo_Ysuj"
      },
      "outputs": [],
      "source": [
        "#diccionario para guardar la info de la DAO\n",
        "all_dao_info = {}\n",
        "\n",
        "def set_basic_info(dao):\n",
        "  QUERY = f\"\"\"\n",
        "  query {{\n",
        "  space(id: \"{dao}\") {{\n",
        "      name\n",
        "      network\n",
        "      members\n",
        "      admins\n",
        "      followersCount\n",
        "  }}\n",
        "  }}\n",
        "  \"\"\"\n",
        "  community_info = requests.post(URL, json={'query': QUERY}).json()\n",
        "  community_info = community_info[\"data\"][\"space\"]\n",
        "  all_dao_info[\"basic_info\"] = community_info\n",
        "\n",
        "set_basic_info(SPACE)\n",
        "print(all_dao_info[\"basic_info\"])"
      ]
    },
    {
      "cell_type": "code",
      "execution_count": null,
      "metadata": {
        "id": "_JHPvTmDcG_E"
      },
      "outputs": [],
      "source": [
        "#todos los votos y las addresses de sus votantes, con fecha\n",
        "\n",
        "def get_all_votes(dao, date):\n",
        "  QUERY_VOTES = f\"\"\"query Votes {{\n",
        "    votes(\n",
        "      where: {{space_in: \"{dao}\", created_gt: {date} }},\n",
        "      first: 1000,\n",
        "      orderBy: \"created\",\n",
        "      orderDirection: asc\n",
        "    ) {{\n",
        "      id\n",
        "      created\n",
        "      voter\n",
        "      vp\n",
        "      choice\n",
        "      proposal {{\n",
        "          id\n",
        "          title\n",
        "      }}\n",
        "    }}\n",
        "  }}\n",
        "  \"\"\"\n",
        "  return QUERY_VOTES\n",
        "\n",
        "def set_votes_info(dao):\n",
        "  fecha = 0\n",
        "  list_dict_results = []\n",
        "  while True:\n",
        "\n",
        "    votes = requests.post(URL, json={'query': get_all_votes(dao, fecha)}).json()[\"data\"][\"votes\"]\n",
        "    list_dict_results += votes\n",
        "    fecha = max(list(map(lambda x: x[\"created\"], votes)))\n",
        "\n",
        "    if len(votes) < 1000:\n",
        "      break\n",
        "\n",
        "  df_votes = pd.DataFrame.from_dict(list_dict_results, orient='columns')\n",
        "  df_votes['created'] = pd.to_datetime(df_votes['created'], unit='s')\n",
        "  df_votes['voter'] = df_votes['voter'].str.lower()\n",
        "  df_votes[\"choice\"] = df_votes[\"choice\"].apply(lambda val: val[0] if (type(val) == list) else val)\n",
        "\n",
        "  all_dao_info[\"df_votes\"] = df_votes\n",
        "\n",
        "\n",
        "set_votes_info(SPACE)\n",
        "#print(all_dao_info[\"df_votes\"][\"id\"])\n",
        "\n"
      ]
    },
    {
      "cell_type": "code",
      "execution_count": 13,
      "metadata": {
        "id": "yxpnc7ptmXaO"
      },
      "outputs": [],
      "source": [
        "def get_all_proposals(dao, date):\n",
        "  QUERY_VOTES = f\"\"\"query Proposals {{\n",
        "  proposals(\n",
        "    where: {{space_in: \"{dao}\", created_gt: {date}}},\n",
        "    first: 1000,\n",
        "    orderBy: \"created\",\n",
        "    orderDirection: asc\n",
        "  ) {{\n",
        "    id\n",
        "    created\n",
        "    title\n",
        "    votes\n",
        "    type\n",
        "    state\n",
        "    author\n",
        "    scores\n",
        "    scores_total\n",
        "    choices\n",
        "    end\n",
        "  }}\n",
        "}}\n",
        "\"\"\"\n",
        "  return QUERY_VOTES\n",
        "\n",
        "def set_all_proposals_info(dao):\n",
        "  date = 0\n",
        "  list_dic_proposals = []\n",
        "  while True:\n",
        "    props = requests.post(URL, json={'query': get_all_proposals(dao, date)}).json()[\"data\"][\"proposals\"]\n",
        "\n",
        "    list_dic_proposals += props\n",
        "    date = max(list(map(lambda x: x[\"created\"], props)))\n",
        "\n",
        "\n",
        "    if len(props) < 1000:\n",
        "      break\n",
        "\n",
        "  df_proposals = pd.DataFrame.from_dict(list_dic_proposals, orient='columns')\n",
        "\n",
        "  df_proposals['author'] = df_proposals['author'].str.lower()\n",
        "\n",
        "  #comentar si se quieren las fechas de inicio y fin\n",
        "  #la fecha sera la de cierre de la propuesta\n",
        "  df_proposals['date'] = pd.to_datetime(df_proposals['end'], unit='s')\n",
        "  #eliminamos end y created\n",
        "  df_proposals = df_proposals.drop(columns=[\"end\"])\n",
        "  df_proposals = df_proposals.drop(columns=[\"created\"])\n",
        "\n",
        "  all_dao_info[\"df_proposals\"] = df_proposals\n",
        "\n",
        "\n",
        "set_all_proposals_info(SPACE)"
      ]
    },
    {
      "cell_type": "code",
      "execution_count": 14,
      "metadata": {
        "id": "W6yQUpf494Cu"
      },
      "outputs": [],
      "source": [
        "  #añadir datos-> lista autores y votantes\n",
        "list_different_authors = all_dao_info[\"df_proposals\"]['author'].unique()\n",
        "num_different_authors = len(list_different_authors)\n",
        "all_dao_info[\"authors_list\"] = list_different_authors\n",
        "all_dao_info[\"num_authors\"] = num_different_authors\n",
        "\n",
        "list_different_voters = all_dao_info[\"df_votes\"]['voter'].unique()\n",
        "num_different_voters = len(list_different_voters)\n",
        "all_dao_info[\"voters_list\"] = list_different_voters\n",
        "all_dao_info[\"num_voters\"] = num_different_voters"
      ]
    },
    {
      "cell_type": "code",
      "execution_count": null,
      "metadata": {
        "id": "dLBoOGzQ9Diy"
      },
      "outputs": [],
      "source": [
        "#followers\n",
        "\n",
        "def query_followers(dao, skip):\n",
        "  #Addresses de los followers (el número grande)\n",
        "  QUERY_FOLLOWS = f\"\"\"\n",
        "  query Follows {{\n",
        "    follows(\n",
        "      first: 20,\n",
        "      skip: {skip},\n",
        "      where: {{space_in: \"{dao}\"}}\n",
        "    ) {{\n",
        "      follower\n",
        "    }}\n",
        "  }}\n",
        "  \"\"\"\n",
        "  return QUERY_FOLLOWS\n",
        "\n",
        "def get_followers(dao):\n",
        "  skip = 0\n",
        "  list_dict_results = []\n",
        "  while True:\n",
        "    followers = requests.post(URL, json={'query': query_followers(dao, skip)}).json()[\"data\"][\"follows\"]\n",
        "    list_dict_results += followers\n",
        "    skip += 20\n",
        "    if len(followers) < 20:\n",
        "      return list(map(operator.itemgetter('follower'), list_dict_results))\n",
        "\n",
        "\n",
        "all_dao_info[\"basic_info\"][\"followers\"] = get_followers(SPACE)\n",
        "\n",
        "#print(all_dao_info[\"basic_info\"][\"followers\"])"
      ]
    },
    {
      "cell_type": "markdown",
      "source": [
        "# ***BORRAR DATOS QUE NO VAMOS A USAR***"
      ],
      "metadata": {
        "id": "W3cmYyPCuOY9"
      }
    },
    {
      "cell_type": "markdown",
      "metadata": {
        "id": "NQFKxURNQNL6"
      },
      "source": [
        "**DATOS ELIMINADOS**\n",
        "En esta recogida de datos se va a forzar a:\n",
        "\n",
        "*   Si una propuesta sigue abierta NO se analiza\n",
        "*   Los votos asociados a propuestas abiertas NO se analizan\n",
        "\n"
      ]
    },
    {
      "cell_type": "code",
      "execution_count": 17,
      "metadata": {
        "id": "i-X57l5KQWkO"
      },
      "outputs": [],
      "source": [
        "#BORRADO DE DATOS\n",
        "\n",
        "# Eliminamos las propuestas que no sean \"closed\"\n",
        "#nos quedamos con los id para borrar los votos\n",
        "id_no_cerradas = all_dao_info[\"df_proposals\"][all_dao_info[\"df_proposals\"][\"state\"] != \"closed\"][\"id\"]\n",
        "all_dao_info[\"df_proposals\"] = all_dao_info[\"df_proposals\"][all_dao_info[\"df_proposals\"][\"state\"] == \"closed\"]\n",
        "#Eliminamos los votos de las propuestas eliminadas (abiertas)\n",
        "mantener = np.logical_not(np.isin(all_dao_info[\"df_votes\"][\"proposal\"].apply(lambda x: x['id']) ,  id_no_cerradas))\n",
        "all_dao_info['df_votes'] = all_dao_info['df_votes'][mantener]\n",
        "\n",
        "#rearrange\n",
        "all_dao_info[\"df_proposals\"].index = range(len(all_dao_info[\"df_proposals\"]))\n",
        "all_dao_info[\"df_votes\"].index = range(len(all_dao_info[\"df_votes\"]))\n",
        "\n",
        "\n"
      ]
    },
    {
      "cell_type": "code",
      "source": [
        "  #añadir datos-> lista autores y votantes\n",
        "  #actualizar el numero y la lista de autores y votantes\n",
        "list_different_authors = all_dao_info[\"df_proposals\"]['author'].unique()\n",
        "num_different_authors = len(list_different_authors)\n",
        "all_dao_info[\"authors_list\"] = list_different_authors\n",
        "all_dao_info[\"num_authors\"] = num_different_authors\n",
        "\n",
        "list_different_voters = all_dao_info[\"df_votes\"]['voter'].unique()\n",
        "num_different_voters = len(list_different_voters)\n",
        "all_dao_info[\"voters_list\"] = list_different_voters\n",
        "all_dao_info[\"num_voters\"] = num_different_voters\n"
      ],
      "metadata": {
        "id": "2fxS_38Mt94b"
      },
      "execution_count": 18,
      "outputs": []
    }
  ],
  "metadata": {
    "colab": {
      "provenance": []
    },
    "kernelspec": {
      "display_name": "Python 3 (ipykernel)",
      "language": "python",
      "name": "python3"
    },
    "language_info": {
      "codemirror_mode": {
        "name": "ipython",
        "version": 3
      },
      "file_extension": ".py",
      "mimetype": "text/x-python",
      "name": "python",
      "nbconvert_exporter": "python",
      "pygments_lexer": "ipython3",
      "version": "3.8.0"
    }
  },
  "nbformat": 4,
  "nbformat_minor": 0
}