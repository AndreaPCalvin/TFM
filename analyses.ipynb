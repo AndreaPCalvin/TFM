{
  "cells": [
    {
      "cell_type": "markdown",
      "metadata": {
        "id": "BH9K80ktDRu8"
      },
      "source": [
        "# **Conectar con drive para acceder a los datos**"
      ]
    },
    {
      "cell_type": "code",
      "execution_count": null,
      "metadata": {
        "id": "86do9kHoDGGp"
      },
      "outputs": [],
      "source": [
        "from google.colab import drive\n",
        "drive.mount('/content/drive')"
      ]
    },
    {
      "cell_type": "markdown",
      "metadata": {
        "id": "jS3X-tl2DYb-"
      },
      "source": [
        "# **Imports**"
      ]
    },
    {
      "cell_type": "code",
      "execution_count": 2,
      "metadata": {
        "id": "7Q19dDkJcbl1"
      },
      "outputs": [],
      "source": [
        "import pandas as pd\n",
        "import numpy as np\n",
        "from datetime import datetime\n",
        "import matplotlib.pyplot as plt\n",
        "import requests\n",
        "import operator\n",
        "from collections import Counter\n",
        "from collections import defaultdict\n",
        "import math\n",
        "from traitlets.traitlets import default\n",
        "import pickle\n",
        "from datetime import timedelta\n",
        "import seaborn as sns\n",
        "from tabulate import tabulate\n",
        "import statistics"
      ]
    },
    {
      "cell_type": "code",
      "execution_count": 3,
      "metadata": {
        "id": "5w4YSVvVZyIx"
      },
      "outputs": [],
      "source": [
        "path = 'yourpath.pickle'\n",
        "with open(path, 'rb') as f:\n",
        "  all_dao_info = pickle.load(f)\n",
        "\n",
        "#print(all_dao_info)"
      ]
    },
    {
      "cell_type": "code",
      "execution_count": 4,
      "metadata": {
        "id": "rxiO-dpnMF3O"
      },
      "outputs": [],
      "source": [
        "#Periodo de tiempo a estudiar\n",
        "ini = min(all_dao_info[\"df_votes\"][\"created\"])\n",
        "fin = datetime(2023, 1, 1, 0, 0, 0, 0)\n",
        "allMonths = pd.date_range(start=ini, end=fin, freq=pd.DateOffset(months=1)).strftime(\"%Y-%m\")\n",
        "allMonthsNew = pd.date_range(start=ini, end=fin, freq=pd.DateOffset(months=1)).strftime(\"%Y-%b\")"
      ]
    },
    {
      "cell_type": "code",
      "execution_count": 5,
      "metadata": {
        "id": "b2r1mzFwji1x"
      },
      "outputs": [],
      "source": [
        "#eje date\n",
        "\n",
        "DateAxis = []\n",
        "for k in allMonthsNew:\n",
        "  sp = k.split(\"-\")\n",
        "  if sp[1] != \"Jan\":\n",
        "    DateAxis.append(sp[1])\n",
        "  else:\n",
        "    DateAxis.append(sp[1]+\"\\n\"+sp[0])\n",
        "\n",
        "# print(ini)\n",
        "# print(DateAxis)"
      ]
    },
    {
      "cell_type": "code",
      "execution_count": 6,
      "metadata": {
        "id": "NGwuY7YeTu0Z"
      },
      "outputs": [],
      "source": [
        "#ordenar los id de propuesta por fecha\n",
        "#asi podemos estar 100% seguros de que recorremos props en orden cronologico\n",
        "tupla = zip(all_dao_info['df_proposals']['id'], all_dao_info['df_proposals']['date'])\n",
        "IDsPropsOrdenados = sorted(tupla, key=lambda date : date[1])"
      ]
    },
    {
      "cell_type": "code",
      "execution_count": 7,
      "metadata": {
        "id": "PJnOWfM50ZzX"
      },
      "outputs": [],
      "source": [
        "plt.rcParams[\"figure.figsize\"]=(12,7)"
      ]
    },
    {
      "cell_type": "markdown",
      "metadata": {
        "id": "CinqMbgFbOFb"
      },
      "source": [
        "# **Métricas sin gráficas**"
      ]
    },
    {
      "cell_type": "code",
      "execution_count": null,
      "metadata": {
        "id": "QMIhGhADDEXt",
        "scrolled": true
      },
      "outputs": [],
      "source": [
        "print(f\"Total number of proposals: {all_dao_info['df_proposals']['id'].count()}\")\n",
        "print(f\"Total number of authors: {all_dao_info['num_authors']}\")\n",
        "print(f\"Total number of voters: {all_dao_info['num_voters']}\")\n",
        "\n",
        "print(f\"Participation: {len(set(all_dao_info['voters_list']).union(set(all_dao_info['authors_list'])))}\")\n",
        "\n"
      ]
    },
    {
      "cell_type": "code",
      "execution_count": null,
      "metadata": {
        "id": "x6Bh7_xDbTK4"
      },
      "outputs": [],
      "source": [
        "#votos\n",
        "print(f\"Total number of votes: {all_dao_info['df_votes']['id'].count()}\")\n",
        "\n",
        "maxi = 0\n",
        "mini = 2147483647\n",
        "myList = []\n",
        "\n",
        "for prop_id in all_dao_info['df_proposals']['id']:\n",
        "  n = list(all_dao_info['df_proposals'][all_dao_info['df_proposals']['id'] == prop_id]['votes'])[0]\n",
        "  if n > maxi:\n",
        "    maxi = n\n",
        "  if n < mini and n>0:\n",
        "    mini = n\n",
        "  myList.append(n)\n",
        "\n",
        "print(f\"Max number of votes in a proposal: {maxi}\")\n",
        "print(f\"Min number of votes in a proposal: {mini}\")\n",
        "print(f\"Median number of votes: {statistics.median(myList)}\")\n",
        "print(f\"Mean number of votes: {statistics.mean(myList)}\")"
      ]
    },
    {
      "cell_type": "code",
      "execution_count": null,
      "metadata": {
        "id": "peNjyHqfHh9v"
      },
      "outputs": [],
      "source": [
        "#votos por votante\n",
        "\n",
        "votos_gr = all_dao_info['df_votes'].groupby('voter')['id'].count()\n",
        "\n",
        "print(f\"Max number of votes for a voter: {max(votos_gr)}\")\n",
        "print(f\"Min number of votes for a voter: {min(votos_gr)}\")\n",
        "print(f\"Median number of votes: {statistics.median(votos_gr)}\")\n",
        "print(f\"Mean number of votes: {statistics.mean(votos_gr)}\")"
      ]
    },
    {
      "cell_type": "code",
      "execution_count": null,
      "metadata": {
        "id": "pWASe9dJDS9G"
      },
      "outputs": [],
      "source": [
        "#suma de las medianas de vp de los votantes\n",
        "vp = []\n",
        "\n",
        "for voter in all_dao_info['voters_list']:\n",
        "  vp.append(statistics.median(all_dao_info['df_votes'][all_dao_info['df_votes']['voter'] == voter]['vp']))\n",
        "\n",
        "total_median_vp = sum(vp)\n",
        "\n",
        "print(f\"Suma de las medianas de vp de los votantes: {total_median_vp}\")"
      ]
    },
    {
      "cell_type": "code",
      "execution_count": null,
      "metadata": {
        "id": "2jCtl6kWfvXF"
      },
      "outputs": [],
      "source": [
        "#VP propuesta\n",
        "print(f\"Total number of vp: {all_dao_info['df_proposals']['scores_total'].sum()}\")\n",
        "\n",
        "maxi = 0\n",
        "mini = 2147483647\n",
        "myList = []\n",
        "\n",
        "for prop_id in all_dao_info['df_proposals']['id']:\n",
        "  n = list(all_dao_info['df_proposals'][all_dao_info['df_proposals']['id'] == prop_id]['scores_total'])[0]\n",
        "  if n > maxi:\n",
        "    maxi = n\n",
        "  if n < mini:\n",
        "    mini = n\n",
        "  myList.append(n)\n",
        "\n",
        "print(f\"Max vp in a proposal: {maxi}, {maxi/total_median_vp*100}\")\n",
        "print(f\"Min vp in a proposal: {mini}, {mini/total_median_vp*100}\")\n",
        "print(f\"Median vp: {statistics.median(myList)}, {statistics.median(myList) /total_median_vp*100}\")\n",
        "print(f\"Mean vp: {statistics.mean(myList)}, {statistics.mean(myList)  /total_median_vp*100}\")"
      ]
    },
    {
      "cell_type": "code",
      "execution_count": null,
      "metadata": {
        "id": "uVodZxX_IyMn"
      },
      "outputs": [],
      "source": [
        "#voting power por votante\n",
        "vp_gr = all_dao_info['df_votes'].groupby('voter')['vp'].median()\n",
        "\n",
        "print(f\"Max vp for a voter (median): {max(vp_gr)}, {max(vp_gr)  /total_median_vp*100}\")\n",
        "print(f\"Min vp for a voter (median): {min(vp_gr)}, {min(vp_gr) /total_median_vp*100}\")\n",
        "print(f\"Median vp for a voter (median): {statistics.median(vp_gr)}, {statistics.median(vp_gr) /total_median_vp*100}\")\n",
        "print(f\"Mean vp for a voter (median): {statistics.mean(vp_gr)}, {statistics.mean(vp_gr) /total_median_vp*100}\")"
      ]
    },
    {
      "cell_type": "code",
      "execution_count": null,
      "metadata": {
        "id": "nLavneBDLiVy"
      },
      "outputs": [],
      "source": [
        "#resultado propuestas\n",
        "secundada = 0\n",
        "nosecundada = 0\n",
        "novotos = 0\n",
        "unanimidadConAutor = 0\n",
        "unanimidadSinAutor = 0\n",
        "\n",
        "for prop_id in all_dao_info['df_proposals']['id']:\n",
        "  autor = list(all_dao_info['df_proposals'][all_dao_info['df_proposals']['id'] == prop_id]['author'])[0]\n",
        "\n",
        "  autor_aux = all_dao_info['df_votes']['voter'] == autor\n",
        "  prop_aux = np.array(list(map(lambda x: x['id'], all_dao_info['df_votes']['proposal']))) == prop_id\n",
        "\n",
        "  num_votos = list(all_dao_info['df_proposals'][all_dao_info['df_proposals']['id'] == prop_id]['votes'])[0]\n",
        "  filter = all_dao_info['df_votes'][ np.logical_and(prop_aux , autor_aux)]['created']\n",
        "\n",
        "  #gris: nadie vota\n",
        "  if num_votos == 0:\n",
        "    novotos +=1\n",
        "  elif len(filter) > 0: #el autor vota\n",
        "    opt_autor = all_dao_info['df_votes'][ np.logical_and(prop_aux , autor_aux)]['choice'].to_list()[0]\n",
        "    win = all_dao_info['df_proposals'][all_dao_info['df_proposals']['id'] == prop_id]['scores'].to_list()[0]\n",
        "    maxi = max(win)\n",
        "    opt_winner = [x for x in range(len(win)) if win[x] == maxi][0]\n",
        "    n = all_dao_info['results_per_proposals'][prop_id][opt_autor]\n",
        "\n",
        "    #verde -> autor vota la opcion que gana\n",
        "    if opt_winner == opt_autor-1 :\n",
        "      secundada += 1\n",
        "      if n == num_votos:\n",
        "        unanimidadConAutor +=1\n",
        "    #rojo\n",
        "    else:\n",
        "      nosecundada +=1\n",
        "  else:\n",
        "    #el autor no vota pero la gente si, mirar unanimidad\n",
        "    for key, val in all_dao_info['results_per_proposals'][prop_id].items():\n",
        "      if val == num_votos:\n",
        "        unanimidadSinAutor +=1\n",
        "\n",
        "print(f\"Propuestas secundadas: {secundada}\")\n",
        "print(f\"Propuestas no secundadas: {nosecundada}\")\n",
        "print(f\"Propuestas sin votos: {novotos}\")\n",
        "print(f\"Propuestas con unanimidad: {unanimidadSinAutor + unanimidadConAutor}\")"
      ]
    },
    {
      "cell_type": "code",
      "execution_count": null,
      "metadata": {
        "id": "EXhyRHbbTiAQ"
      },
      "outputs": [],
      "source": [
        "#vp opcion ganadora\n",
        "\n",
        "props = all_dao_info[\"df_proposals\"]\n",
        "\n",
        "vp = []\n",
        "\n",
        "for i in range(len(props)):\n",
        "    maxi = 0\n",
        "    total = 0\n",
        "    for j in range(len(props['choices'][i])):\n",
        "      if props['scores'][i][j] > maxi:\n",
        "        maxi = props['scores'][i][j]\n",
        "      total += props['scores'][i][j]\n",
        "\n",
        "    if total == 0:\n",
        "      continue\n",
        "    porcentaje = maxi * 100 / total\n",
        "    vp.append(porcentaje)\n",
        "\n",
        "print(f\"VP medio opcion ganadora: {statistics.mean(vp)}\")"
      ]
    },
    {
      "cell_type": "code",
      "execution_count": null,
      "metadata": {
        "id": "PJh7C6byVZ4p"
      },
      "outputs": [],
      "source": [
        "#votos opcion ganadora\n",
        "votos = []\n",
        "for prop_id in all_dao_info['df_proposals']['id']:\n",
        "  if num_votos != 0:\n",
        "    maxi = 0\n",
        "    total = 0\n",
        "    for key, val in all_dao_info['results_per_proposals'][prop_id].items():\n",
        "      if val > maxi:\n",
        "        maxi = val\n",
        "      total += val\n",
        "    if total == 0:\n",
        "      continue\n",
        "\n",
        "    porcentaje = maxi * 100 / total\n",
        "    votos.append(porcentaje)\n",
        "\n",
        "\n",
        "print(f\"Votos medio opcion ganadora: {statistics.mean(votos)}\")"
      ]
    },
    {
      "cell_type": "code",
      "execution_count": null,
      "metadata": {
        "id": "vg3ogtwUdOHp"
      },
      "outputs": [],
      "source": [
        "#votantes que acumulan >50% VP (nº y %)\n",
        "totalVP = 0\n",
        "vps = []\n",
        "for voter in all_dao_info['voters_list']:\n",
        "  sum_vp = all_dao_info[\"df_votes\"][all_dao_info[\"df_votes\"]['voter']==voter]['vp'].median()\n",
        "  totalVP += sum_vp\n",
        "  vps.append(sum_vp)\n",
        "\n",
        "ordenado = sorted(vps, reverse = True)\n",
        "\n",
        "sumi = 0\n",
        "for i in range(len(ordenado)):\n",
        "  sumi += ordenado[i]\n",
        "  if sumi > totalVP/2:\n",
        "    print(\"Votantes que acumulan > 50\")\n",
        "    res = i+1\n",
        "    print(res)\n",
        "    break\n",
        "\n",
        "print(\"Porcentaje\")\n",
        "print(res/len(ordenado)*100)"
      ]
    },
    {
      "cell_type": "markdown",
      "metadata": {
        "id": "R_gwFKNWLk8d"
      },
      "source": [
        "# **Gráficas**\n"
      ]
    },
    {
      "cell_type": "code",
      "execution_count": null,
      "metadata": {
        "id": "nDq4oBJnYWim"
      },
      "outputs": [],
      "source": [
        "# Distribución del poder de los votantes.\n",
        "myDict={}\n",
        "test=[]\n",
        "\n",
        "for voter in all_dao_info['voters_list']:\n",
        "  mymax = max(all_dao_info[\"df_votes\"][all_dao_info[\"df_votes\"]['voter']==voter]['vp'])\n",
        "  mymin = min(all_dao_info[\"df_votes\"][all_dao_info[\"df_votes\"]['voter']==voter]['vp'])\n",
        "  mymedian = statistics.median(all_dao_info[\"df_votes\"][all_dao_info[\"df_votes\"]['voter']==voter]['vp'])\n",
        "  # if len(all_dao_info[\"df_votes\"][all_dao_info[\"df_votes\"]['voter']==voter]['vp']) > 1:\n",
        "  #   if mymax > mymin:\n",
        "  myDict[voter] = (mymax+1, mymin+1, mymedian+1)\n",
        "  test.append(mymedian)\n",
        "print(test)\n",
        "print(statistics.median(test))\n",
        "\n",
        "ordenado = sorted(myDict.items(), key = lambda x:x[1][2])\n",
        "plt.rcParams[\"figure.figsize\"]=(12,7)\n",
        "for i in range(len(list(map(lambda p: p[0], ordenado)))):\n",
        "   plt.vlines(i+1, list(map(lambda p: p[1][1]/(10**6), ordenado))[i], list(map(lambda p: p[1][0]/(10**6), ordenado))[i], color='black', zorder=0)\n",
        "\n",
        "plt.scatter(range(1, len(list(map(lambda p: p[0], ordenado)))+1), list(map(lambda p: p[1][2]/(10**6), ordenado)), zorder=5)\n",
        "plt.ylim(0, 1400000/(10**6))\n",
        "plt.xlim(-.95, 65)\n",
        "plt.xticks(fontsize=15)\n",
        "plt.yticks(fontsize=15)\n",
        "plt.xlabel(\"Votantes\", fontsize=20)\n",
        "plt.ylabel(\"Poder de voto (millones)\", fontsize=20)\n",
        "\n",
        "plt.savefig(\"distribucionVP_Pillar.pdf\", format=\"pdf\", bbox_inches=\"tight\")\n",
        "plt.show()"
      ]
    },
    {
      "cell_type": "code",
      "execution_count": null,
      "metadata": {
        "id": "ipb2_Rzn24sN"
      },
      "outputs": [],
      "source": [
        "# Curva de Lorenz.\n",
        "def lorenz_curve(X):\n",
        "  X_lorenz = X.cumsum() / X.sum()\n",
        "  X_lorenz = np.insert(X_lorenz, 0, 0)\n",
        "  X_lorenz[0], X_lorenz[-1]\n",
        "\n",
        "  fig, ax = plt.subplots(figsize=[6,6])\n",
        "  ## scatter plot of Lorenz curve\n",
        "  ax.scatter(np.arange(X_lorenz.size)/(X_lorenz.size-1), X_lorenz,\n",
        "           s=80, facecolors='none', edgecolors='darkorange')\n",
        "  ## line plot of equality\n",
        "  ax.plot([0,1], [0,1], color='k')\n",
        "  plt.axhline(y=0.5, color='grey', lw=0.5)\n",
        "\n",
        "  plt.ylabel(\"Poder de voto acumulado\" , fontsize=20)\n",
        "  plt.xlabel(\"Votantes acumulados\", fontsize=20)\n",
        "\n",
        "  plt.xticks(fontsize=15)\n",
        "  plt.yticks(fontsize=15)\n",
        "\n",
        "  plt.savefig(\"lorenz.pdf\", format=\"pdf\", bbox_inches=\"tight\")\n",
        "\n",
        "  plt.show()\n",
        "\n",
        "\n",
        "\n",
        "X = dict(all_dao_info[\"df_votes\"].groupby([\"voter\"])[\"vp\"].median())\n",
        "X = np.array(sorted(list(X.values())))\n",
        "\n",
        "\n",
        "lorenz_curve(X)\n"
      ]
    },
    {
      "cell_type": "code",
      "execution_count": null,
      "metadata": {
        "id": "kAlZBfBbpW0q"
      },
      "outputs": [],
      "source": [
        "#scatter plot: Relación entre el número de votos que emite un votante y su poder de voto\n",
        "VP_gruped_per_voter = all_dao_info[\"df_votes\"].groupby([\"voter\"])[\"vp\"]\n",
        "VP_median_per_voter = VP_gruped_per_voter.median()\n",
        "\n",
        "votes_per_voter = all_dao_info[\"df_votes\"].groupby([\"voter\"])[\"id\"].count()\n",
        "\n",
        "\n",
        "plt.style.use('bmh')\n",
        "plt.scatter(VP_median_per_voter, votes_per_voter, alpha=0.25, s=75)\n",
        "plt.xlabel('Poder de voto mediano', fontsize=20)\n",
        "plt.ylabel('Número de votos emitidos', fontsize=20)\n",
        "plt.xticks(fontsize=15)\n",
        "plt.yticks(fontsize=15)\n",
        "\n",
        "plt.savefig(\"fig.pdf\", format=\"pdf\", bbox_inches=\"tight\")\n",
        "\n",
        "plt.show()"
      ]
    },
    {
      "cell_type": "code",
      "execution_count": null,
      "metadata": {
        "id": "MOf0c74VkIfu"
      },
      "outputs": [],
      "source": [
        "#GINI para vp\n",
        "\n",
        "def gini(x):\n",
        "    total = 0\n",
        "    for i, xi in enumerate(x[:-1], 1):\n",
        "        total += np.sum(np.abs(xi - x[i:]))\n",
        "    return total / (len(x)**2 * np.mean(x))\n",
        "\n",
        "\n",
        "\n",
        "VP_gruped_per_voter = all_dao_info[\"df_votes\"].groupby([\"voter\"])[\"vp\"]\n",
        "data = VP_gruped_per_voter.median()\n",
        "print(\"The Gini coefficient is (groupped by voter): \", gini(data))\n"
      ]
    },
    {
      "cell_type": "code",
      "execution_count": null,
      "metadata": {
        "id": "oO30t3YJ16TU"
      },
      "outputs": [],
      "source": [
        "#datos gini para tabla\n",
        "data = []\n",
        "i=0\n",
        "n=0\n",
        "for prop_id, date in IDsPropsOrdenados:\n",
        "  #si la propuesta ha recibido voting power\n",
        "  if list(all_dao_info['df_proposals'][all_dao_info['df_proposals']['id'] == prop_id]['scores_total'])[0] > 0:\n",
        "    #cojo los votos de la propuesta\n",
        "    prop_aux = np.array(list(map(lambda x: x['id'], all_dao_info['df_votes']['proposal']))) == prop_id\n",
        "    #saco vp de los votos\n",
        "    total_vp = all_dao_info['df_votes'][ prop_aux ]['vp']\n",
        "    if len(total_vp) > 1:\n",
        "      val = gini(np.array(total_vp))\n",
        "      data.append(val)\n",
        "\n",
        "\n",
        "\n",
        "print(f'Max = {max(data)}')\n",
        "print(f'min = {min(data)}')\n",
        "print(f'mean = {statistics.mean(data)}')\n",
        "print(f'median = {statistics.median(data)}')"
      ]
    },
    {
      "cell_type": "code",
      "execution_count": null,
      "metadata": {
        "id": "5trE2-Qk0NlZ"
      },
      "outputs": [],
      "source": [
        "#gini por propuesta\n",
        "plt.rcParams[\"figure.figsize\"]=(16,10)\n",
        "data = {}\n",
        "cadena = \"P\"\n",
        "i = 1\n",
        "\n",
        "for prop_id, date in IDsPropsOrdenados:\n",
        "  if list(all_dao_info['df_proposals'][all_dao_info['df_proposals']['id'] == prop_id]['scores_total'])[0] != 0:\n",
        "    prop_aux = np.array(list(map(lambda x: x['id'], all_dao_info['df_votes']['proposal']))) == prop_id\n",
        "    total_vp = all_dao_info['df_votes'][ prop_aux ]['vp']\n",
        "    data[cadena + str(i)] = gini(np.array(total_vp))\n",
        "  i+=1\n",
        "\n",
        "plt.bar(list(data.keys()), list(data.values()))\n",
        "plt.ylim(0,1)\n",
        "plt.xticks(rotation=45)\n",
        "plt.xlabel('Propuesta', fontsize=25)\n",
        "plt.ylabel('Coeficiente de Gini', fontsize=25)\n",
        "plt.xticks(fontsize=12)\n",
        "plt.yticks(fontsize=20)\n",
        "\n",
        "plt.savefig(\"gini_pillar.pdf\", format=\"pdf\", bbox_inches=\"tight\")\n",
        "\n"
      ]
    },
    {
      "cell_type": "code",
      "execution_count": null,
      "metadata": {
        "id": "JUbVauShqH3R"
      },
      "outputs": [],
      "source": [
        "#Porcentaje de votos y poder de voto que recibe la opción ganadora de las propuestas.\n",
        "props = all_dao_info[\"df_proposals\"]\n",
        "\n",
        "vp = {}\n",
        "nvotos = {}\n",
        "x = 1\n",
        "for elem, nousar in IDsPropsOrdenados:\n",
        "    maxi = 0\n",
        "    total = 0\n",
        "    for j in range(len(list(props[all_dao_info['df_proposals']['id'] ==  elem]['choices'])[0])):\n",
        "      if list(props[all_dao_info['df_proposals']['id'] ==  elem]['scores'])[0][j] > maxi:\n",
        "        maxi = list(props[all_dao_info['df_proposals']['id'] ==  elem]['scores'])[0][j]\n",
        "      total += list(props[all_dao_info['df_proposals']['id'] ==  elem]['scores'])[0][j]\n",
        "\n",
        "    if total == 0:\n",
        "      x+=1\n",
        "      continue\n",
        "    #% opt ganadora\n",
        "    porcentaje = maxi * 100 / total\n",
        "\n",
        "    vp[ \"P\"+str(x)] = porcentaje\n",
        "    x+=1\n",
        "\n",
        "\n",
        "#nvotos\n",
        "#no mismo orden\n",
        "aux = {}\n",
        "for prop, val in all_dao_info['results_per_proposals'].items():\n",
        "    if sum(val.values()) == 0:\n",
        "      continue\n",
        "    perc = max(val.values())*100/sum(val.values())\n",
        "    aux[prop] = perc\n",
        "\n",
        "#for para ordenar\n",
        "y = 1\n",
        "for prop, nousar in IDsPropsOrdenados:\n",
        "  if prop in aux:\n",
        "    nvotos[\"P\"+str(y)] = aux[prop]\n",
        "    #print(prop)\n",
        "  y+=1\n",
        "\n",
        "\n",
        "#plot\n",
        "plt.style.use('bmh')\n",
        "\n",
        "\n",
        "x_axis = np.arange(len(list(map(lambda p: p[0], nvotos))))\n",
        "fig = plt.figure()\n",
        "ax = plt.gca()\n",
        "\n",
        "\n",
        "ax.bar( x_axis-0.2, list(nvotos.values()), width=0.4, align='center', color='tab:orange', label='Votos')\n",
        "plt.xticks(x_axis, list(nvotos.keys()), rotation=45)\n",
        "\n",
        "plt.xlabel('Propuestas', fontsize=20)\n",
        "plt.ylabel('Porcentaje', fontsize=20)\n",
        "plt.xticks(fontsize=15)\n",
        "plt.yticks(fontsize=15)\n",
        "ax.tick_params(axis='y')\n",
        "\n",
        "ax.bar(  x_axis+0.2, list(vp.values()), width=0.4, align='center', color='tab:blue', label='Poder de voto')\n",
        "plt.legend(fontsize=20, loc=4)\n",
        "\n",
        "\n",
        "plt.savefig(\"agree_bar_Pillar.pdf\", format=\"pdf\", bbox_inches=\"tight\")\n",
        "plt.show()\n",
        "\n"
      ]
    },
    {
      "cell_type": "code",
      "execution_count": null,
      "metadata": {
        "id": "eh95E9GA6UGt"
      },
      "outputs": [],
      "source": [
        "# Scatter plot Relación entre los porcentajes de votos y poder de voto que recibe la opción ganadora de las propuesta\n",
        "\n",
        "#Para la misma propuesta necesito su %de votos y su % de vp\n",
        "\n",
        "#Lista de id-propuesta, % de votos opcion ganadora\n",
        "myDictVotos = {}\n",
        "for prop, val in all_dao_info['results_per_proposals'].items():\n",
        " # if len(val) == 2:\n",
        "    if sum(val.values()) != 0:\n",
        "      percVotos = max(val.values())*100/sum(val.values())\n",
        "      myDictVotos[prop]=percVotos\n",
        "\n",
        "#Lista de id-propuesta, % de vp opcion ganadora\n",
        "#esta en scores\n",
        "myDictVP = {}\n",
        "for i in range(len(all_dao_info[\"df_proposals\"])):\n",
        "  #if len(all_dao_info[\"df_proposals\"][\"scores\"][i]) == 2:\n",
        "    if all_dao_info[\"df_proposals\"][\"scores_total\"][i] != 0:\n",
        "      percVP = max(all_dao_info[\"df_proposals\"][\"scores\"][i])*100 / all_dao_info[\"df_proposals\"][\"scores_total\"][i]\n",
        "      myDictVP[all_dao_info[\"df_proposals\"][\"id\"][i]] = percVP\n",
        "\n",
        "#aqui hay que unir x e y en funcion del id de la propuesta\n",
        "x = []\n",
        "y = []\n",
        "\n",
        "for i in myDictVP.items():\n",
        "  for j in myDictVotos.items():\n",
        "    if i[0] == j[0]:\n",
        "      y.append(i[1])\n",
        "      x.append(j[1])\n",
        "\n",
        "plt.style.use('bmh')\n",
        "plt.axes().set_aspect('equal')\n",
        "plt.scatter(x, y, alpha=0.3, s=150)\n",
        "plt.xlim(0, 100)\n",
        "plt.ylim(0, 100)\n",
        "\n",
        "\n",
        "plt.ylabel('Porcentaje de poder de voto', fontsize=20)\n",
        "plt.xlabel('Porcentaje de votos', fontsize=20)\n",
        "\n",
        "plt.xticks(fontsize=15)\n",
        "plt.yticks(fontsize=15)\n",
        "\n",
        "plt.savefig(\"agree_Pillar.pdf\", format=\"pdf\", bbox_inches=\"tight\")\n",
        "plt.show()\n",
        "\n"
      ]
    },
    {
      "cell_type": "code",
      "execution_count": null,
      "metadata": {
        "id": "VktQrnTQmHPB"
      },
      "outputs": [],
      "source": [
        "#Relación entre el número de votos y el poder de voto que recibe una propuesta\n",
        "plt.rcParams[\"figure.figsize\"]=(12,7)\n",
        "x = []\n",
        "y = []\n",
        "ids = []\n",
        "i=1\n",
        "for prop_id, nousar in IDsPropsOrdenados:\n",
        "\n",
        "  num_votos = all_dao_info['df_proposals'][all_dao_info['df_proposals']['id']==prop_id]['votes']\n",
        "  vp = all_dao_info['df_proposals'][all_dao_info['df_proposals']['id'] == prop_id]['scores_total']\n",
        "\n",
        "  x.append(num_votos)\n",
        "  y.append(vp/num_votos)\n",
        "  ids.append(\"P\"+str(i))\n",
        "  i+=1\n",
        "\n",
        "plt.style.use('bmh')\n",
        "plt.scatter(x, y, alpha=0.5, s=150)\n",
        "plt.ylabel('Poder de voto medio', fontsize=20)\n",
        "plt.xlabel('Cantidad de votos', fontsize=20)\n",
        "\n",
        "plt.xticks(fontsize=15)\n",
        "plt.yticks(fontsize=15)\n",
        "\n",
        "plt.savefig(\"prop_vvp_pillar.pdf\", format=\"pdf\", bbox_inches=\"tight\")\n",
        "\n",
        "# for i, txt in enumerate(ids):\n",
        "#     plt.annotate(txt, (x[i], y[i]))\n",
        "\n",
        "#no pinta las propuestas sin votos"
      ]
    },
    {
      "cell_type": "markdown",
      "metadata": {
        "id": "PrkpF59WcsDd"
      },
      "source": [
        "# **Autoría**"
      ]
    },
    {
      "cell_type": "code",
      "execution_count": null,
      "metadata": {
        "id": "GIXWbjFZHfbd"
      },
      "outputs": [],
      "source": [
        "i = 0\n",
        "j = 0\n",
        "for num_votes, rep in Counter(Counter(list(all_dao_info[\"df_proposals\"][\"author\"])).values()).items():\n",
        "   rects = plt.bar(num_votes, rep, 0.4)\n",
        "   height = rects[0].get_height()\n",
        "  #  plt.text(rects[0].get_x() + rects[0].get_width()/2., height,\n",
        "  #             f'{rep}',\n",
        "  #             ha='center', va='bottom')\n",
        "   i = i+1\n",
        "   if(j<rep):\n",
        "     j = rep\n",
        "\n",
        "plt.style.use('bmh')\n",
        "plt.xlabel(\"Cantidad de propuestas creadas\")\n",
        "plt.ylabel(\"Número de autores\")\n",
        "plt.xticks(range(1,4,1))\n",
        "plt.yticks(range(0,7,1))\n",
        "plt.show()"
      ]
    }
  ],
  "metadata": {
    "colab": {
      "collapsed_sections": [
        "CinqMbgFbOFb",
        "tbTSbZU3pa4V",
        "ANsAMc4gw--t",
        "0HluYTTVSb_-",
        "wz0tWkdsxM75",
        "M0A6g950Yp9V",
        "RP9gCIr57Doa"
      ],
      "provenance": []
    },
    "kernelspec": {
      "display_name": "Python 3 (ipykernel)",
      "language": "python",
      "name": "python3"
    },
    "language_info": {
      "codemirror_mode": {
        "name": "ipython",
        "version": 3
      },
      "file_extension": ".py",
      "mimetype": "text/x-python",
      "name": "python",
      "nbconvert_exporter": "python",
      "pygments_lexer": "ipython3",
      "version": "3.8.0"
    }
  },
  "nbformat": 4,
  "nbformat_minor": 0
}